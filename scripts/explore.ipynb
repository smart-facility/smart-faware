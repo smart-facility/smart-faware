{
 "nbformat": 4,
 "nbformat_minor": 2,
 "metadata": {
  "language_info": {
   "name": "python",
   "codemirror_mode": {
    "name": "ipython",
    "version": 3
   },
   "version": "3.8.2-final"
  },
  "orig_nbformat": 2,
  "file_extension": ".py",
  "mimetype": "text/x-python",
  "name": "python",
  "npconvert_exporter": "python",
  "pygments_lexer": "ipython3",
  "version": 3,
  "kernelspec": {
   "name": "python38264bitfloodawareconda42801f45cb2d42938c25b4a1f3c9a794",
   "display_name": "Python 3.8.2 64-bit ('floodaware': conda)"
  }
 },
 "cells": [
  {
   "cell_type": "code",
   "execution_count": 1,
   "metadata": {},
   "outputs": [],
   "source": [
    "import sys, os\n",
    "import numpy as np\n",
    "import re, datetime\n",
    "import gdal"
   ]
  },
  {
   "cell_type": "code",
   "execution_count": 9,
   "metadata": {},
   "outputs": [],
   "source": [
    "os.chdir(\"D:/OneDrive - University of Wollongong/Smart Waterways/Floodaware/rainfield_files/05\")"
   ]
  },
  {
   "cell_type": "code",
   "execution_count": 10,
   "metadata": {},
   "outputs": [],
   "source": [
    "test_file = os.listdir()[1]\n",
    "dataset = gdal.Open(test_file, gdal.GA_ReadOnly)"
   ]
  },
  {
   "cell_type": "code",
   "execution_count": 11,
   "metadata": {},
   "outputs": [],
   "source": [
    "timestamps = re.sub(r\"[{}]\", \"\", dataset.GetMetadata_Dict()['NETCDF_DIM_valid_time_VALUES']).split(\",\")"
   ]
  },
  {
   "cell_type": "code",
   "execution_count": 12,
   "metadata": {},
   "outputs": [],
   "source": [
    "times = [datetime.datetime.utcfromtimestamp(int(stamp)) for stamp in timestamps]"
   ]
  },
  {
   "cell_type": "code",
   "execution_count": 25,
   "metadata": {},
   "outputs": [
    {
     "output_type": "execute_result",
     "data": {
      "text/plain": "<osgeo.osr.SpatialReference; proxy of <Swig Object of type 'OSRSpatialReferenceShadow *' at 0x00000217A8B128D0> >"
     },
     "metadata": {},
     "execution_count": 25
    }
   ],
   "source": [
    "dataset.GetSpatialRef()"
   ]
  },
  {
   "cell_type": "code",
   "execution_count": 20,
   "metadata": {},
   "outputs": [
    {
     "output_type": "execute_result",
     "data": {
      "text/plain": "['AutoIdentifyEPSG',\n 'Clone',\n 'CloneGeogCS',\n 'ConvertToOtherProjection',\n 'CopyGeogCSFrom',\n 'EPSGTreatsAsLatLong',\n 'EPSGTreatsAsNorthingEasting',\n 'ExportToMICoordSys',\n 'ExportToPCI',\n 'ExportToPrettyWkt',\n 'ExportToProj4',\n 'ExportToUSGS',\n 'ExportToWkt',\n 'ExportToXML',\n 'FindMatches',\n 'GetAngularUnits',\n 'GetAngularUnitsName',\n 'GetAreaOfUse',\n 'GetAttrValue',\n 'GetAuthorityCode',\n 'GetAuthorityName',\n 'GetAxisMappingStrategy',\n 'GetAxisName',\n 'GetAxisOrientation',\n 'GetDataAxisToSRSAxisMapping',\n 'GetInvFlattening',\n 'GetLinearUnits',\n 'GetLinearUnitsName',\n 'GetName',\n 'GetNormProjParm',\n 'GetProjParm',\n 'GetSemiMajor',\n 'GetSemiMinor',\n 'GetTOWGS84',\n 'GetTargetLinearUnits',\n 'GetUTMZone',\n 'ImportFromEPSG',\n 'ImportFromEPSGA',\n 'ImportFromERM',\n 'ImportFromESRI',\n 'ImportFromMICoordSys',\n 'ImportFromOzi',\n 'ImportFromPCI',\n 'ImportFromProj4',\n 'ImportFromUSGS',\n 'ImportFromUrl',\n 'ImportFromWkt',\n 'ImportFromXML',\n 'IsCompound',\n 'IsGeocentric',\n 'IsGeographic',\n 'IsLocal',\n 'IsProjected',\n 'IsSame',\n 'IsSameGeogCS',\n 'IsSameVertCS',\n 'IsVertical',\n 'MorphFromESRI',\n 'MorphToESRI',\n 'SetACEA',\n 'SetAE',\n 'SetAngularUnits',\n 'SetAttrValue',\n 'SetAuthority',\n 'SetAxisMappingStrategy',\n 'SetBonne',\n 'SetCEA',\n 'SetCS',\n 'SetCompoundCS',\n 'SetEC',\n 'SetEckertIV',\n 'SetEckertVI',\n 'SetEquirectangular',\n 'SetEquirectangular2',\n 'SetFromUserInput',\n 'SetGEOS',\n 'SetGH',\n 'SetGS',\n 'SetGaussSchreiberTMercator',\n 'SetGeocCS',\n 'SetGeogCS',\n 'SetGnomonic',\n 'SetHOM',\n 'SetHOM2PNO',\n 'SetIGH',\n 'SetKrovak',\n 'SetLAEA',\n 'SetLCC',\n 'SetLCC1SP',\n 'SetLCCB',\n 'SetLinearUnits',\n 'SetLinearUnitsAndUpdateParameters',\n 'SetLocalCS',\n 'SetMC',\n 'SetMercator',\n 'SetMercator2SP',\n 'SetMollweide',\n 'SetNZMG',\n 'SetNormProjParm',\n 'SetOS',\n 'SetOrthographic',\n 'SetPS',\n 'SetPolyconic',\n 'SetProjCS',\n 'SetProjParm',\n 'SetProjection',\n 'SetRobinson',\n 'SetSOC',\n 'SetSinusoidal',\n 'SetStatePlane',\n 'SetStereographic',\n 'SetTM',\n 'SetTMG',\n 'SetTMSO',\n 'SetTMVariant',\n 'SetTOWGS84',\n 'SetTargetLinearUnits',\n 'SetUTM',\n 'SetVDG',\n 'SetVertCS',\n 'SetWellKnownGeogCS',\n 'Validate',\n '__class__',\n '__del__',\n '__delattr__',\n '__dict__',\n '__dir__',\n '__doc__',\n '__eq__',\n '__format__',\n '__ge__',\n '__getattr__',\n '__getattribute__',\n '__gt__',\n '__hash__',\n '__init__',\n '__init_subclass__',\n '__le__',\n '__lt__',\n '__module__',\n '__ne__',\n '__new__',\n '__reduce__',\n '__reduce_ex__',\n '__repr__',\n '__setattr__',\n '__sizeof__',\n '__str__',\n '__subclasshook__',\n '__swig_destroy__',\n '__swig_getmethods__',\n '__swig_setmethods__',\n '__weakref__',\n 'this']"
     },
     "metadata": {},
     "execution_count": 20
    }
   ],
   "source": []
  },
  {
   "cell_type": "code",
   "execution_count": 16,
   "metadata": {},
   "outputs": [
    {
     "output_type": "execute_result",
     "data": {
      "text/plain": "{'member#long_name': 'ensemble member',\n 'member#standard_name': 'realization',\n 'member#units': '1',\n 'member#valid_max': '1200',\n 'member#valid_min': '1',\n 'NC_GLOBAL#comment': '',\n 'NC_GLOBAL#Conventions': 'CF-1.6',\n 'NC_GLOBAL#history': '',\n 'NC_GLOBAL#institution': 'Commonwealth of Australia 2018, Bureau of Meteorology (ABN 92 637 533 532), http://www.bom.gov.au/other/copyright.shtml',\n 'NC_GLOBAL#references': '',\n 'NC_GLOBAL#source': 'Using ACCESS C2 files dated 2018100418 and Rainfields file dated 201810050010',\n 'NC_GLOBAL#station_id': '311',\n 'NC_GLOBAL#station_name': 'NSWm311',\n 'NC_GLOBAL#title': 'Forecast ensemble',\n 'NETCDF_DIM_EXTRA': '{member,valid_time}',\n 'NETCDF_DIM_member_DEF': '{10,4}',\n 'NETCDF_DIM_member_VALUES': '{1,2,3,4,5,6,7,8,9,10}',\n 'NETCDF_DIM_valid_time_DEF': '{74,4}',\n 'NETCDF_DIM_valid_time_VALUES': '{1538698800,1538699400,1538700000,1538700600,1538701200,1538701800,1538702400,1538703000,1538703600,1538704200,1538704800,1538705400,1538706000,1538706600,1538707200,1538707800,1538708400,1538709000,1538709600,1538710200,1538710800,1538711400,1538712000,1538712600,1538713200,1538713800,1538714400,1538715000,1538715600,1538716200,1538716800,1538717400,1538718000,1538718600,1538719200,1538719800,1538720400,1538721000,1538721600,1538722200,1538722800,1538723400,1538724000,1538724600,1538725200,1538725800,1538726400,1538727000,1538727600,1538728200,1538728800,1538729400,1538730000,1538730600,1538731200,1538731800,1538732400,1538733000,1538733600,1538734200,1538734800,1538735400,1538736000,1538736600,1538737200,1538737800,1538738400,1538739000,1538739600,1538740200,1538740800,1538741400,1538742000,1538742600}',\n 'precipitation#add_offset': '0',\n 'precipitation#grid_mapping': 'proj',\n 'precipitation#long_name': 'Accumulation forecast',\n 'precipitation#scale_factor': '0.050000001',\n 'precipitation#standard_name': 'precipitation_amount',\n 'precipitation#units': 'kg m-2',\n 'precipitation#_FillValue': '-1',\n 'proj#false_easting': '0',\n 'proj#false_northing': '0',\n 'proj#grid_mapping_name': 'albers_conical_equal_area',\n 'proj#latitude_of_projection_origin': '-33.264',\n 'proj#longitude_of_central_meridian': '150.874',\n 'proj#semi_major_axis': '6378137',\n 'proj#semi_minor_axis': '6356752.31414',\n 'proj#standard_parallel': '{-30.2,-36.3}',\n 'valid_time#long_name': 'end time of forecast',\n 'valid_time#standard_name': 'time',\n 'valid_time#units': 'seconds since 1970-01-01 00:00:00 UTC',\n 'x#bounds': 'x_bounds',\n 'x#standard_name': 'projection_x_coordinate',\n 'x#units': 'km',\n 'y#bounds': 'y_bounds',\n 'y#standard_name': 'projection_y_coordinate',\n 'y#units': 'km'}"
     },
     "metadata": {},
     "execution_count": 16
    }
   ],
   "source": [
    "dataset.GetMetadata()"
   ]
  }
 ]
}