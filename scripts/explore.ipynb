{
 "cells": [
  {
   "cell_type": "code",
   "execution_count": 4,
   "metadata": {},
   "outputs": [],
   "source": [
    "import sys, os\n",
    "import numpy as np\n",
    "import re, datetime"
   ]
  },
  {
   "cell_type": "code",
   "execution_count": 1,
   "metadata": {},
   "outputs": [],
   "source": [
    "os.chdir(\"C:/users/nate/work/smart-faware/data/experiments/wbnm_98\")"
   ]
  },
  {
   "cell_type": "code",
   "execution_count": 8,
   "metadata": {},
   "outputs": [],
   "source": [
    "files = [file for file in os.listdir() if \".wbn\" in file]"
   ]
  },
  {
   "cell_type": "code",
   "execution_count": 10,
   "metadata": {},
   "outputs": [],
   "source": [
    "file = open(files[0], \"r\")\n",
    "data = file.read()"
   ]
  },
  {
   "cell_type": "code",
   "execution_count": 122,
   "metadata": {
    "tags": [
     "outputPrepend"
    ]
   },
   "outputs": [],
   "source": [
    "gauges_section = re.findall(r\"#####START_RECORDED_RAIN(?s).*#####END_RECORDED_RAIN\", data)[0]"
   ]
  },
  {
   "cell_type": "code",
   "execution_count": 138,
   "metadata": {},
   "outputs": [
    {
     "output_type": "execute_result",
     "data": {
      "text/plain": "datetime.datetime(1998, 1, 17, 0, 8)"
     },
     "metadata": {},
     "execution_count": 138
    }
   ],
   "source": []
  },
  {
   "cell_type": "code",
   "execution_count": 124,
   "metadata": {},
   "outputs": [
    {
     "output_type": "error",
     "ename": "TypeError",
     "evalue": "an integer is required (got type str)",
     "traceback": [
      "\u001b[1;31m---------------------------------------------------------------------------\u001b[0m",
      "\u001b[1;31mTypeError\u001b[0m                                 Traceback (most recent call last)",
      "\u001b[1;32m<ipython-input-124-6d09a77663b2>\u001b[0m in \u001b[0;36m<module>\u001b[1;34m\u001b[0m\n\u001b[1;32m----> 1\u001b[1;33m \u001b[0mdatetime\u001b[0m\u001b[1;33m.\u001b[0m\u001b[0mdatetime\u001b[0m\u001b[1;33m(\u001b[0m\u001b[0mre\u001b[0m\u001b[1;33m.\u001b[0m\u001b[0mfindall\u001b[0m\u001b[1;33m(\u001b[0m\u001b[1;34mr\"(\\d{2}/\\d{2}/\\d{4})\\n.*\\n\\s*(\\d{1,4})\\s*(\\d{1,4}.?\\d{1,4})\\nMM/HR\"\u001b[0m\u001b[1;33m,\u001b[0m \u001b[0mgauges_section\u001b[0m\u001b[1;33m)\u001b[0m\u001b[1;33m[\u001b[0m\u001b[1;36m0\u001b[0m\u001b[1;33m]\u001b[0m\u001b[1;33m[\u001b[0m\u001b[1;36m0\u001b[0m\u001b[1;33m]\u001b[0m\u001b[1;33m)\u001b[0m\u001b[1;33m\u001b[0m\u001b[1;33m\u001b[0m\u001b[0m\n\u001b[0m",
      "\u001b[1;31mTypeError\u001b[0m: an integer is required (got type str)"
     ]
    }
   ],
   "source": [
    "datetime.datetime.strftime(\"Dre.findall(r\"(\\d{2}/\\d{2}/\\d{4})\\n.*\\n\\s*(\\d{1,4})\\s*(\\d{1,4}.?\\d{1,4})\\nMM/HR\", gauges_section)[0][0]"
   ]
  },
  {
   "cell_type": "code",
   "execution_count": 116,
   "metadata": {},
   "outputs": [],
   "source": [
    "n = 181\n",
    "gauges = re.findall(rf\"(.*\\n.*\\d{{4,8}}.\\d{{1,3}}  \\d{{4,8}}.\\d{{1,3}}\\n(?:.*?\\d{{1,4}}.\\d{{2}}\\n){{{n}}})\", gauges_section)\n",
    "for gauge in gauges:\n",
    "    gauge = gauge.split(\"\\n\")\n",
    "    gauge = [dat for dat in gauge if dat != \"\"]"
   ]
  },
  {
   "cell_type": "code",
   "execution_count": 114,
   "metadata": {},
   "outputs": [
    {
     "output_type": "execute_result",
     "data": {
      "text/plain": "'568160 Wollongong Mangerton Res 0.5kmN w WCC&568053 hybrid patt\\n   305492.00  6188700.00\\n        0.00\\n        6.80\\n        6.80\\n        6.80\\n        6.80\\n        0.00\\n        6.80\\n        6.80\\n        6.80\\n       13.59\\n        6.80\\n        6.80\\n        6.80\\n        6.80\\n        0.00\\n        6.80\\n        6.80\\n        0.00\\n        6.80\\n       13.59\\n        6.80\\n        0.00\\n        6.80\\n        6.80\\n       13.59\\n        0.00\\n        0.00\\n        0.00\\n       20.39\\n        6.80\\n        0.00\\n        6.80\\n        0.00\\n        6.80\\n        6.80\\n       13.59\\n       40.78\\n       27.19\\n       54.37\\n       47.57\\n       13.59\\n       13.59\\n        0.00\\n       13.59\\n        6.80\\n        6.80\\n        6.80\\n        0.00\\n        0.00\\n        0.00\\n        0.00\\n        0.00\\n        6.80\\n        0.00\\n        0.00\\n        0.00\\n        0.00\\n        0.00\\n       13.59\\n        0.00\\n        6.80\\n        0.00\\n       13.59\\n        0.00\\n        0.00\\n        6.80\\n        0.00\\n        6.80\\n       13.59\\n       20.39\\n       33.98\\n        6.80\\n        6.80\\n       13.59\\n        6.80\\n        0.00\\n        6.80\\n        0.00\\n        0.00\\n        6.80\\n        0.00\\n        6.80\\n        0.00\\n        0.00\\n       20.39\\n        6.80\\n        0.00\\n        6.80\\n        0.00\\n        0.00\\n        6.80\\n        3.83\\n       11.49\\n        3.83\\n       19.16\\n        0.00\\n        0.00\\n       22.99\\n       19.16\\n       22.99\\n        3.83\\n        3.83\\n       19.16\\n       11.49\\n        0.00\\n       45.98\\n       22.99\\n       26.82\\n       11.49\\n       15.33\\n       42.15\\n       12.15\\n        0.00\\n       10.92\\n       12.07\\n        0.00\\n       20.96\\n        9.69\\n        7.66\\n       15.33\\n       19.16\\n       19.16\\n       30.65\\n       61.31\\n       99.62\\n       76.63\\n       91.96\\n       91.96\\n       53.64\\n      103.45\\n       61.31\\n       65.14\\n       30.65\\n       49.81\\n       61.31\\n       26.82\\n       15.33\\n        3.83\\n        0.00\\n        7.66\\n       11.49\\n        3.83\\n        0.00\\n        7.66\\n        7.66\\n        3.83\\n        3.83\\n        3.83\\n        7.66\\n       11.49\\n       26.82\\n        0.00\\n       11.49\\n       15.33\\n       11.49\\n        7.66\\n        3.83\\n        0.00\\n        0.00\\n       11.49\\n        0.00\\n        0.00\\n        0.00\\n        0.00\\n        0.00\\n        3.83\\n        0.00\\n        0.00\\n        0.00\\n        0.00\\n        0.00\\n        0.00\\n        0.00\\n        0.00\\n        0.00\\n        0.00\\n        0.00\\n        0.00\\n        0.00\\n        0.00\\n        0.00\\n'"
     },
     "metadata": {},
     "execution_count": 114
    }
   ],
   "source": []
  },
  {
   "cell_type": "code",
   "execution_count": 105,
   "metadata": {},
   "outputs": [
    {
     "output_type": "execute_result",
     "data": {
      "text/plain": "('04/08/1998', '19:50:00', '0.5')"
     },
     "metadata": {},
     "execution_count": 105
    }
   ],
   "source": [
    "re.findall(r\"(?P<date>\\d{1,2}/\\d{1,2}/\\d{4}),(?P<time>\\d{1,2}:\\d{1,2}:\\d{1,2}),(?P<value>\\d{0,3}.?\\d{0,3})\", data)"
   ]
  },
  {
   "cell_type": "code",
   "execution_count": 119,
   "metadata": {},
   "outputs": [],
   "source": [
    "name = re.findall(r\"Station Name,(?P<name>.*?)\\n\", data)"
   ]
  },
  {
   "cell_type": "code",
   "execution_count": 122,
   "metadata": {},
   "outputs": [
    {
     "output_type": "execute_result",
     "data": {
      "text/plain": "[]"
     },
     "metadata": {},
     "execution_count": 122
    }
   ],
   "source": [
    "id = re.findall(r\"Station Number,(?P<id>\\d{4,7})\", data)"
   ]
  }
 ],
 "metadata": {
  "language_info": {
   "name": "python",
   "codemirror_mode": {
    "name": "ipython",
    "version": 3
   },
   "version": "3.7.7-final"
  },
  "orig_nbformat": 2,
  "file_extension": ".py",
  "mimetype": "text/x-python",
  "name": "python",
  "npconvert_exporter": "python",
  "pygments_lexer": "ipython3",
  "version": 3,
  "kernelspec": {
   "name": "python38264bitfloodawareconda42801f45cb2d42938c25b4a1f3c9a794",
   "display_name": "Python 3.8.2 64-bit ('floodaware': conda)"
  }
 },
 "nbformat": 4,
 "nbformat_minor": 2
}