{
 "nbformat": 4,
 "nbformat_minor": 2,
 "metadata": {
  "language_info": {
   "name": "python",
   "codemirror_mode": {
    "name": "ipython",
    "version": 3
   },
   "version": "3.7.7-final"
  },
  "orig_nbformat": 2,
  "file_extension": ".py",
  "mimetype": "text/x-python",
  "name": "python",
  "npconvert_exporter": "python",
  "pygments_lexer": "ipython3",
  "version": 3,
  "kernelspec": {
   "name": "python38264bitfloodawareconda42801f45cb2d42938c25b4a1f3c9a794",
   "display_name": "Python 3.8.2 64-bit ('floodaware': conda)"
  }
 },
 "cells": [
  {
   "cell_type": "code",
   "execution_count": 1,
   "metadata": {},
   "outputs": [],
   "source": [
    "import sys, os\n",
    "import numpy as np\n",
    "import re, datetime"
   ]
  },
  {
   "cell_type": "code",
   "execution_count": 7,
   "metadata": {},
   "outputs": [],
   "source": [
    "os.chdir(\"D:/OneDrive - University of Wollongong/Smart Waterways/Floodaware/data/mhl_Allans Creek and Fairy & Cabbage Creeks Flood Studies/Leon_Allans Creek and Fairy & Cabbage Creeks Flood Studies/Rain\")"
   ]
  },
  {
   "cell_type": "code",
   "execution_count": 21,
   "metadata": {},
   "outputs": [],
   "source": [
    "test_file = os.listdir()[1]\n",
    "file = open(test_file, \"r\")\n",
    "data = file.read()"
   ]
  },
  {
   "cell_type": "code",
   "execution_count": 38,
   "metadata": {},
   "outputs": [
    {
     "output_type": "execute_result",
     "data": {
      "text/plain": "'The data supplied is licensed under a Creative Commons Attribution 4.0 licence. \\nTo view a copy of this licence visit:\\nhttp://creativecommons.org/licenses/by/4.0\\n\\nLicence:\\nThis work is licensed under a Creative Commons Attribution 4.0 Licence: \\nhttp://creativecommons.org/licenses/by/4.0/legalcode \\n\\nYou are free:\\n\\n               1.to copy distribute display and perform the work\\n               2.to make derivative works\\n               3.to make commercial use of the work\\n\\nUnder the following conditions:\\n\\n               1. You must give the original author credit.\\n               2. Please attribute \"NSW Office of Environment and Heritage\" in any publications using this data.\\n\\n\\nStation Name, Dombarton Loop (Live)\\nStation Number, 568307\\nLongitude,150.765423\\nLatitude,-34.450693\\nWeb,\"http://www.mhl.nsw.gov.au/Site-568307\"\\nGoogle Maps,\"https://www.google.com.au/maps/place//@-34.450693,150.765423,14z/data=!3m1!4b1!4m2!3m1!1s0x0:0x0\"\\n\\nDatum, \\n\\nParameter, Rain\\nDate,Time,Value[mm],State of value\\n04/08/1998,19:50:00,0.5,100 (Leost Code)\\n04/08/1998,20:25:00,0.5,100 (Leost Code)\\n04/08/1998,20:50:00,0.5,100 (Leost Code)\\n04/08/1998,21:45:00,0.5,100 (Leost Code)\\n04/08/1998,22:30:00,0.5,100 (Leost Code)\\n05/08/1998,06:20:00,0.5,100 (Leost Code)\\n05/08/1998,07:15:00,0.5,100 (Leost Code)\\n05/08/1998,08:35:00,0.5,100 (Leost Code)\\n05/08/1998,09:10:00,0.5,100 (Leost Code)\\n05/08/1998,09:45:00,0.5,100 (Leost Code)\\n05/08/1998,13:10:00,0.5,100 (Leost Code)\\n05/08/1998,13:15:00,0.5,100 (Leost Code)\\n05/08/1998,13:30:00,0.5,100 (Leost Code)\\n05/08/1998,13:40:00,0.5,100 (Leost Code)\\n05/08/1998,14:10:00,0.5,100 (Leost Code)\\n05/08/1998,16:10:00,0.5,100 (Leost Code)\\n05/08/1998,19:55:00,0.5,100 (Leost Code)\\n05/08/1998,20:55:00,0.5,100 (Leost Code)\\n06/08/1998,08:20:00,0.5,100 (Leost Code)\\n06/08/1998,08:55:00,0.5,100 (Leost Code)\\n06/08/1998,09:20:00,0.5,100 (Leost Code)\\n06/08/1998,10:00:00,0.5,100 (Leost Code)\\n06/08/1998,10:30:00,0.5,100 (Leost Code)\\n06/08/1998,10:55:00,0.5,100 (Leost Code)\\n06/08/1998,11:20:00,0.5,100 (Leost Code)\\n06/08/1998,11:40:00,0.5,100 (Leost Code)\\n06/08/1998,12:10:00,0.5,100 (Leost Code)\\n06/08/1998,12:35:00,0.5,100 (Leost Code)\\n06/08/1998,13:10:00,0.5,100 (Leost Code)\\n06/08/1998,13:55:00,0.5,100 (Leost Code)\\n06/08/1998,14:35:00,0.5,100 (Leost Code)\\n06/08/1998,15:05:00,0.5,100 (Leost Code)\\n06/08/1998,16:15:00,0.5,100 (Leost Code)\\n06/08/1998,16:55:00,0.5,100 (Leost Code)\\n06/08/1998,17:25:00,0.5,100 (Leost Code)\\n06/08/1998,18:30:00,0.5,100 (Leost Code)\\n06/08/1998,18:55:00,0.5,100 (Leost Code)\\n06/08/1998,19:15:00,0.5,100 (Leost Code)\\n06/08/1998,19:25:00,0.5,100 (Leost Code)\\n06/08/1998,19:55:00,0.5,100 (Leost Code)\\n06/08/1998,20:25:00,0.5,100 (Leost Code)\\n06/08/1998,20:40:00,0.5,100 (Leost Code)\\n06/08/1998,20:55:00,0.5,100 (Leost Code)\\n06/08/1998,21:10:00,0.5,100 (Leost Code)\\n06/08/1998,21:30:00,0.5,100 (Leost Code)\\n06/08/1998,21:40:00,0.5,100 (Leost Code)\\n06/08/1998,23:05:00,0.5,100 (Leost Code)\\n06/08/1998,23:35:00,0.5,100 (Leost Code)\\n07/08/1998,00:15:00,0.5,100 (Leost Code)\\n07/08/1998,00:50:00,0.5,100 (Leost Code)\\n07/08/1998,01:00:00,0.5,100 (Leost Code)\\n07/08/1998,01:10:00,0.5,100 (Leost Code)\\n07/08/1998,01:15:00,0.5,100 (Leost Code)\\n07/08/1998,01:30:00,0.5,100 (Leost Code)\\n07/08/1998,02:15:00,0.5,100 (Leost Code)\\n07/08/1998,02:25:00,0.5,100 (Leost Code)\\n07/08/1998,02:30:00,0.5,100 (Leost Code)\\n07/08/1998,02:35:00,0.5,100 (Leost Code)\\n07/08/1998,02:45:00,0.5,100 (Leost Code)\\n07/08/1998,03:00:00,0.5,100 (Leost Code)\\n07/08/1998,03:25:00,0.5,100 (Leost Code)\\n07/08/1998,03:30:00,0.5,100 (Leost Code)\\n07/08/1998,03:50:00,0.5,100 (Leost Code)\\n07/08/1998,04:10:00,0.5,100 (Leost Code)\\n07/08/1998,04:30:00,0.5,100 (Leost Code)\\n07/08/1998,04:50:00,0.5,100 (Leost Code)\\n07/08/1998,05:00:00,0.5,100 (Leost Code)\\n07/08/1998,05:10:00,0.5,100 (Leost Code)\\n07/08/1998,05:15:00,0.5,100 (Leost Code)\\n07/08/1998,05:20:00,0.5,100 (Leost Code)\\n07/08/1998,05:30:00,0.5,100 (Leost Code)\\n07/08/1998,05:50:00,0.5,100 (Leost Code)\\n07/08/1998,06:05:00,0.5,100 (Leost Code)\\n07/08/1998,06:10:00,0.5,100 (Leost Code)\\n07/08/1998,06:15:00,0.5,100 (Leost Code)\\n07/08/1998,06:20:00,0.5,100 (Leost Code)\\n07/08/1998,06:30:00,0.5,100 (Leost Code)\\n07/08/1998,06:40:00,0.5,100 (Leost Code)\\n07/08/1998,06:45:00,0.5,100 (Leost Code)\\n07/08/1998,06:50:00,0.5,100 (Leost Code)\\n07/08/1998,06:55:00,0.5,100 (Leost Code)\\n07/08/1998,07:00:00,0.5,100 (Leost Code)\\n07/08/1998,07:05:00,1.0,100 (Leost Code)\\n07/08/1998,07:10:00,0.5,100 (Leost Code)\\n07/08/1998,07:20:00,0.5,100 (Leost Code)\\n07/08/1998,07:25:00,0.5,100 (Leost Code)\\n07/08/1998,07:35:00,0.5,100 (Leost Code)\\n07/08/1998,07:45:00,1.0,100 (Leost Code)\\n07/08/1998,07:50:00,0.5,100 (Leost Code)\\n07/08/1998,07:55:00,0.5,100 (Leost Code)\\n07/08/1998,08:00:00,0.5,100 (Leost Code)\\n07/08/1998,08:05:00,1.0,100 (Leost Code)\\n07/08/1998,08:10:00,1.0,100 (Leost Code)\\n07/08/1998,08:15:00,0.5,100 (Leost Code)\\n07/08/1998,08:20:00,0.5,100 (Leost Code)\\n07/08/1998,08:25:00,1.0,100 (Leost Code)\\n07/08/1998,08:30:00,0.5,100 (Leost Code)\\n07/08/1998,08:35:00,1.0,'"
     },
     "metadata": {},
     "execution_count": 38
    }
   ],
   "source": [
    "data[0:5000]"
   ]
  },
  {
   "cell_type": "code",
   "execution_count": 84,
   "metadata": {},
   "outputs": [
    {
     "output_type": "execute_result",
     "data": {
      "text/plain": "['Latitude,-34.450693']"
     },
     "metadata": {},
     "execution_count": 84
    }
   ],
   "source": [
    "re.findall(r\"Latitude,-?\\d{1,7}.?\\d{1,7}\", data)"
   ]
  },
  {
   "cell_type": "code",
   "execution_count": 105,
   "metadata": {},
   "outputs": [
    {
     "output_type": "execute_result",
     "data": {
      "text/plain": "('04/08/1998', '19:50:00', '0.5')"
     },
     "metadata": {},
     "execution_count": 105
    }
   ],
   "source": [
    "re.findall(r\"(?P<date>\\d{1,2}/\\d{1,2}/\\d{4}),(?P<time>\\d{1,2}:\\d{1,2}:\\d{1,2}),(?P<value>\\d{0,3}.?\\d{0,3})\", data)"
   ]
  },
  {
   "cell_type": "code",
   "execution_count": 119,
   "metadata": {},
   "outputs": [],
   "source": [
    "name = re.findall(r\"Station Name,(?P<name>.*?)\\n\", data)"
   ]
  },
  {
   "cell_type": "code",
   "execution_count": 122,
   "metadata": {},
   "outputs": [
    {
     "output_type": "execute_result",
     "data": {
      "text/plain": "[]"
     },
     "metadata": {},
     "execution_count": 122
    }
   ],
   "source": [
    "id = re.findall(r\"Station Number,(?P<id>\\d{4,7})\", data)"
   ]
  }
 ]
}